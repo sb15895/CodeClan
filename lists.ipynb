{
 "cells": [
  {
   "cell_type": "markdown",
   "id": "2e073a2e-b3f0-42db-bf4c-5e04d351cf3d",
   "metadata": {},
   "source": [
    "# Data Structures\n",
    "\n",
    "Way of organising data, similar to vectors in C++. Data structure types are the following \n",
    "- Lists \n",
    "- Dictionaries \n",
    "- Tuples and sequences .. "
   ]
  },
  {
   "cell_type": "markdown",
   "id": "0218281c-5227-42be-a85b-2249f83a103e",
   "metadata": {},
   "source": [
    "## Lists "
   ]
  },
  {
   "cell_type": "code",
   "execution_count": null,
   "id": "a3337cbd-a2dd-4dc7-a082-28d8d9143ef5",
   "metadata": {},
   "outputs": [],
   "source": [
    "myList = [] \n",
    "myList =  ['monkey', 'elephant', 'sheep']\n",
    "print(myList)"
   ]
  },
  {
   "cell_type": "markdown",
   "id": "7174c189-ca0d-4692-b58a-cac53ae07b3f",
   "metadata": {},
   "source": [
    "### append \n",
    "```list.append(x)``` "
   ]
  },
  {
   "cell_type": "code",
   "execution_count": null,
   "id": "911afad1-3305-435f-a3c2-bf00bdaa6530",
   "metadata": {},
   "outputs": [],
   "source": [
    "myList =  ['monkey', 'elephant', 'sheep']\n",
    "\n",
    "myList.append('dog')\n",
    "print(myList) "
   ]
  },
  {
   "cell_type": "markdown",
   "id": "d19348cd-3f94-4a38-9732-f4b3e518f775",
   "metadata": {},
   "source": [
    "### extend \n",
    "```list.extend(ext)```"
   ]
  },
  {
   "cell_type": "code",
   "execution_count": null,
   "id": "17456356-89a5-42a1-8bd9-f37603ec4655",
   "metadata": {},
   "outputs": [],
   "source": [
    "myList =  ['monkey', 'elephant', 'sheep']\n",
    "myList.append('dog')\n",
    "ext = ['goat']  \n",
    "\n",
    "myList.extend(ext) \n",
    "print(myList) "
   ]
  },
  {
   "cell_type": "code",
   "execution_count": null,
   "id": "eaff893e-deb6-41fc-8241-0cef6abd0173",
   "metadata": {},
   "outputs": [],
   "source": [
    "# what not to do \n",
    "# ext = 'Goat'\n",
    "# test = myList \n",
    "# test.extend(ext) \n",
    "# print(test) "
   ]
  },
  {
   "cell_type": "markdown",
   "id": "ae243ee0-8161-401f-9f84-8af4f770c307",
   "metadata": {},
   "source": [
    "### remove \n",
    "```list.remove(x)``` \n"
   ]
  },
  {
   "cell_type": "code",
   "execution_count": null,
   "id": "00311fc7-c064-4929-ab03-6d0ac12cfdf8",
   "metadata": {},
   "outputs": [],
   "source": [
    "myList =  ['monkey', 'elephant', 'sheep']\n",
    "myList.append('dog')\n",
    "rm = 'goat' \n",
    "\n",
    "myList.remove(rm)\n",
    "print(myList)"
   ]
  },
  {
   "cell_type": "markdown",
   "id": "ab890870-3dfd-435d-bf3f-ec398f57fc81",
   "metadata": {},
   "source": [
    "### Copy\n",
    "```list.copy()```"
   ]
  },
  {
   "cell_type": "code",
   "execution_count": null,
   "id": "399e7593-035d-46ad-aac0-eb8adb583d45",
   "metadata": {},
   "outputs": [],
   "source": [
    "test = myList.copy()\n",
    "print(test)"
   ]
  },
  {
   "cell_type": "markdown",
   "id": "42b78c32-71fd-4f34-b2fe-c836c8f3fb11",
   "metadata": {},
   "source": [
    "### clear\n",
    "```list.clear()``` \n"
   ]
  },
  {
   "cell_type": "code",
   "execution_count": null,
   "id": "db857891-0298-49e4-a952-c9cb6369c5ec",
   "metadata": {},
   "outputs": [],
   "source": [
    "myList =  ['monkey', 'elephant', 'sheep']\n",
    "myList.append('dog')\n",
    "rm = 'goat' \n",
    "myList.remove(rm)\n",
    "myList.clear() \n",
    "print(myList) "
   ]
  },
  {
   "cell_type": "markdown",
   "id": "eaae613c-e9ab-4d98-b881-1b477bdc6f56",
   "metadata": {},
   "source": [
    "### insert \n",
    "```list.insert(i, x)```"
   ]
  },
  {
   "cell_type": "code",
   "execution_count": null,
   "id": "7553c8f3-bee1-4b70-bcb1-c7dccd3fedb8",
   "metadata": {},
   "outputs": [],
   "source": [
    "myList =  ['monkey', 'elephant', 'sheep']\n",
    "myList.append('dog')\n",
    "rm = 'goat' \n",
    "myList.remove(rm)\n",
    "\n",
    "myList.insert(2,'cow')\n",
    "for i in range(len(myList)):\n",
    "    print(i, myList[i])"
   ]
  },
  {
   "cell_type": "markdown",
   "id": "6f86375c-d198-4eb2-94ad-2b8660b8a444",
   "metadata": {},
   "source": [
    "### pop\n",
    "```list.pop([i])``` \n"
   ]
  },
  {
   "cell_type": "code",
   "execution_count": null,
   "id": "d11821a2-e809-407e-8c00-43cf4d8d928f",
   "metadata": {},
   "outputs": [],
   "source": [
    "myList =  ['monkey', 'elephant', 'sheep']\n",
    "myList.append('dog')\n",
    "rm = 'goat' \n",
    "myList.remove(rm)\n",
    "\n",
    "myList.pop()\n",
    "for i in range(len(myList)):\n",
    "    print(i, myList[i])\n",
    "# if no index specified, then last digit gets popped \n"
   ]
  },
  {
   "cell_type": "markdown",
   "id": "3080a4b6-6182-47bc-8b57-5be09c37c57e",
   "metadata": {},
   "source": [
    "### index\n",
    "```list.index(x[, start[, end]])``` "
   ]
  },
  {
   "cell_type": "code",
   "execution_count": null,
   "id": "78a88e34-bc3b-41be-8ff0-574cee8e0269",
   "metadata": {},
   "outputs": [],
   "source": [
    "myList =  ['monkey', 'elephant', 'sheep']\n",
    "myList.append('dog')\n",
    "for i in range(len(myList)):\n",
    "    print(i, myList[i])\n"
   ]
  },
  {
   "cell_type": "code",
   "execution_count": null,
   "id": "3b4af1e7-a7b4-4542-a7f5-615558b5db32",
   "metadata": {},
   "outputs": [],
   "source": [
    "search = 'sheep'\n",
    "print(myList.index(search))"
   ]
  },
  {
   "cell_type": "markdown",
   "id": "b9ebcf1e-887f-4ba4-b583-fa1a2ef5672e",
   "metadata": {},
   "source": [
    "### Count \n",
    "```list.count(x)```"
   ]
  },
  {
   "cell_type": "code",
   "execution_count": null,
   "id": "d0f04359-1f58-42a3-a534-cf20bee1a309",
   "metadata": {},
   "outputs": [],
   "source": [
    "myList =  ['monkey', 'elephant', 'sheep', 'sheep', 'cow', 'dog','sheep']\n",
    "search = 'sheep' \n",
    "print(myList.count(search)) "
   ]
  },
  {
   "cell_type": "markdown",
   "id": "d00fbe70-c564-4bf6-a0c9-2a2eb57c7408",
   "metadata": {},
   "source": [
    "### Reverse \n",
    "```list.reverse()``` "
   ]
  },
  {
   "cell_type": "code",
   "execution_count": null,
   "id": "ecdc8c41-3126-43b3-b520-fe6cd493879f",
   "metadata": {},
   "outputs": [],
   "source": [
    "myList.reverse()\n",
    "print(myList) "
   ]
  },
  {
   "cell_type": "markdown",
   "id": "a53bdc90-bec4-47cf-9e7f-4e97917eafc6",
   "metadata": {},
   "source": [
    "### Sort\n",
    "```list.sort(*, key=None, reverse=False)```"
   ]
  },
  {
   "cell_type": "code",
   "execution_count": null,
   "id": "30793431-a791-4c37-bf80-650cc59d4163",
   "metadata": {},
   "outputs": [],
   "source": [
    "myList =  ['monkey', 'elephant', 'sheep', 'cow', 'dog']\n",
    "print(myList)"
   ]
  },
  {
   "cell_type": "code",
   "execution_count": null,
   "id": "4591cf7b-73f7-42cc-9174-3e6d71aca5f6",
   "metadata": {},
   "outputs": [],
   "source": [
    "## default option \n",
    "# myList.sort()\n",
    "# print(myList) \n",
    "\n",
    "## key based on function \n",
    "def func(e):\n",
    "  return len(e)\n",
    "myList.sort(key=func) \n",
    "print(myList)\n",
    "\n",
    "## reverse option \n",
    "myList.sort(reverse=True)\n",
    "print(myList)\n"
   ]
  },
  {
   "cell_type": "markdown",
   "id": "a5d88fcf-b0ce-4314-b8b7-8f95f9ec851a",
   "metadata": {},
   "source": [
    "### list comprehensions"
   ]
  },
  {
   "cell_type": "code",
   "execution_count": null,
   "id": "5361f474-9490-40e8-8841-46c025a26967",
   "metadata": {},
   "outputs": [],
   "source": [
    "# importing the required module\n",
    "import matplotlib.pyplot as plt\n",
    "\n",
    "squares = [x**2 for x in range(10)]\n",
    "print(squares)\n",
    "# plt.figure()\n",
    "# plt.plot(squares)\n",
    "\n",
    "## nested lists "
   ]
  },
  {
   "cell_type": "code",
   "execution_count": 1,
   "id": "df625a89-df0c-4d88-8190-f22c680dad03",
   "metadata": {},
   "outputs": [
    {
     "ename": "ModuleNotFoundError",
     "evalue": "No module named 'watermark'",
     "output_type": "error",
     "traceback": [
      "\u001b[0;31m---------------------------------------------------------------------------\u001b[0m",
      "\u001b[0;31mModuleNotFoundError\u001b[0m                       Traceback (most recent call last)",
      "Input \u001b[0;32mIn [1]\u001b[0m, in \u001b[0;36m<cell line: 1>\u001b[0;34m()\u001b[0m\n\u001b[0;32m----> 1\u001b[0m \u001b[43mget_ipython\u001b[49m\u001b[43m(\u001b[49m\u001b[43m)\u001b[49m\u001b[38;5;241;43m.\u001b[39;49m\u001b[43mrun_line_magic\u001b[49m\u001b[43m(\u001b[49m\u001b[38;5;124;43m'\u001b[39;49m\u001b[38;5;124;43mload_ext\u001b[39;49m\u001b[38;5;124;43m'\u001b[39;49m\u001b[43m,\u001b[49m\u001b[43m \u001b[49m\u001b[38;5;124;43m'\u001b[39;49m\u001b[38;5;124;43mwatermark\u001b[39;49m\u001b[38;5;124;43m'\u001b[39;49m\u001b[43m)\u001b[49m\n",
      "File \u001b[0;32m~/opt/miniconda3/envs/jupyterlab/lib/python3.10/site-packages/IPython/core/interactiveshell.py:2305\u001b[0m, in \u001b[0;36mInteractiveShell.run_line_magic\u001b[0;34m(self, magic_name, line, _stack_depth)\u001b[0m\n\u001b[1;32m   2303\u001b[0m     kwargs[\u001b[38;5;124m'\u001b[39m\u001b[38;5;124mlocal_ns\u001b[39m\u001b[38;5;124m'\u001b[39m] \u001b[38;5;241m=\u001b[39m \u001b[38;5;28mself\u001b[39m\u001b[38;5;241m.\u001b[39mget_local_scope(stack_depth)\n\u001b[1;32m   2304\u001b[0m \u001b[38;5;28;01mwith\u001b[39;00m \u001b[38;5;28mself\u001b[39m\u001b[38;5;241m.\u001b[39mbuiltin_trap:\n\u001b[0;32m-> 2305\u001b[0m     result \u001b[38;5;241m=\u001b[39m \u001b[43mfn\u001b[49m\u001b[43m(\u001b[49m\u001b[38;5;241;43m*\u001b[39;49m\u001b[43margs\u001b[49m\u001b[43m,\u001b[49m\u001b[43m \u001b[49m\u001b[38;5;241;43m*\u001b[39;49m\u001b[38;5;241;43m*\u001b[39;49m\u001b[43mkwargs\u001b[49m\u001b[43m)\u001b[49m\n\u001b[1;32m   2306\u001b[0m \u001b[38;5;28;01mreturn\u001b[39;00m result\n",
      "File \u001b[0;32m~/opt/miniconda3/envs/jupyterlab/lib/python3.10/site-packages/IPython/core/magics/extension.py:33\u001b[0m, in \u001b[0;36mExtensionMagics.load_ext\u001b[0;34m(self, module_str)\u001b[0m\n\u001b[1;32m     31\u001b[0m \u001b[38;5;28;01mif\u001b[39;00m \u001b[38;5;129;01mnot\u001b[39;00m module_str:\n\u001b[1;32m     32\u001b[0m     \u001b[38;5;28;01mraise\u001b[39;00m UsageError(\u001b[38;5;124m'\u001b[39m\u001b[38;5;124mMissing module name.\u001b[39m\u001b[38;5;124m'\u001b[39m)\n\u001b[0;32m---> 33\u001b[0m res \u001b[38;5;241m=\u001b[39m \u001b[38;5;28;43mself\u001b[39;49m\u001b[38;5;241;43m.\u001b[39;49m\u001b[43mshell\u001b[49m\u001b[38;5;241;43m.\u001b[39;49m\u001b[43mextension_manager\u001b[49m\u001b[38;5;241;43m.\u001b[39;49m\u001b[43mload_extension\u001b[49m\u001b[43m(\u001b[49m\u001b[43mmodule_str\u001b[49m\u001b[43m)\u001b[49m\n\u001b[1;32m     35\u001b[0m \u001b[38;5;28;01mif\u001b[39;00m res \u001b[38;5;241m==\u001b[39m \u001b[38;5;124m'\u001b[39m\u001b[38;5;124malready loaded\u001b[39m\u001b[38;5;124m'\u001b[39m:\n\u001b[1;32m     36\u001b[0m     \u001b[38;5;28mprint\u001b[39m(\u001b[38;5;124m\"\u001b[39m\u001b[38;5;124mThe \u001b[39m\u001b[38;5;132;01m%s\u001b[39;00m\u001b[38;5;124m extension is already loaded. To reload it, use:\u001b[39m\u001b[38;5;124m\"\u001b[39m \u001b[38;5;241m%\u001b[39m module_str)\n",
      "File \u001b[0;32m~/opt/miniconda3/envs/jupyterlab/lib/python3.10/site-packages/IPython/core/extensions.py:76\u001b[0m, in \u001b[0;36mExtensionManager.load_extension\u001b[0;34m(self, module_str)\u001b[0m\n\u001b[1;32m     69\u001b[0m \u001b[38;5;124;03m\"\"\"Load an IPython extension by its module name.\u001b[39;00m\n\u001b[1;32m     70\u001b[0m \n\u001b[1;32m     71\u001b[0m \u001b[38;5;124;03mReturns the string \"already loaded\" if the extension is already loaded,\u001b[39;00m\n\u001b[1;32m     72\u001b[0m \u001b[38;5;124;03m\"no load function\" if the module doesn't have a load_ipython_extension\u001b[39;00m\n\u001b[1;32m     73\u001b[0m \u001b[38;5;124;03mfunction, or None if it succeeded.\u001b[39;00m\n\u001b[1;32m     74\u001b[0m \u001b[38;5;124;03m\"\"\"\u001b[39;00m\n\u001b[1;32m     75\u001b[0m \u001b[38;5;28;01mtry\u001b[39;00m:\n\u001b[0;32m---> 76\u001b[0m     \u001b[38;5;28;01mreturn\u001b[39;00m \u001b[38;5;28;43mself\u001b[39;49m\u001b[38;5;241;43m.\u001b[39;49m\u001b[43m_load_extension\u001b[49m\u001b[43m(\u001b[49m\u001b[43mmodule_str\u001b[49m\u001b[43m)\u001b[49m\n\u001b[1;32m     77\u001b[0m \u001b[38;5;28;01mexcept\u001b[39;00m \u001b[38;5;167;01mModuleNotFoundError\u001b[39;00m:\n\u001b[1;32m     78\u001b[0m     \u001b[38;5;28;01mif\u001b[39;00m module_str \u001b[38;5;129;01min\u001b[39;00m BUILTINS_EXTS:\n",
      "File \u001b[0;32m~/opt/miniconda3/envs/jupyterlab/lib/python3.10/site-packages/IPython/core/extensions.py:92\u001b[0m, in \u001b[0;36mExtensionManager._load_extension\u001b[0;34m(self, module_str)\u001b[0m\n\u001b[1;32m     90\u001b[0m \u001b[38;5;28;01mif\u001b[39;00m module_str \u001b[38;5;129;01mnot\u001b[39;00m \u001b[38;5;129;01min\u001b[39;00m sys\u001b[38;5;241m.\u001b[39mmodules:\n\u001b[1;32m     91\u001b[0m     \u001b[38;5;28;01mwith\u001b[39;00m prepended_to_syspath(\u001b[38;5;28mself\u001b[39m\u001b[38;5;241m.\u001b[39mipython_extension_dir):\n\u001b[0;32m---> 92\u001b[0m         mod \u001b[38;5;241m=\u001b[39m \u001b[43mimport_module\u001b[49m\u001b[43m(\u001b[49m\u001b[43mmodule_str\u001b[49m\u001b[43m)\u001b[49m\n\u001b[1;32m     93\u001b[0m         \u001b[38;5;28;01mif\u001b[39;00m mod\u001b[38;5;241m.\u001b[39m\u001b[38;5;18m__file__\u001b[39m\u001b[38;5;241m.\u001b[39mstartswith(\u001b[38;5;28mself\u001b[39m\u001b[38;5;241m.\u001b[39mipython_extension_dir):\n\u001b[1;32m     94\u001b[0m             \u001b[38;5;28mprint\u001b[39m((\u001b[38;5;124m\"\u001b[39m\u001b[38;5;124mLoading extensions from \u001b[39m\u001b[38;5;132;01m{dir}\u001b[39;00m\u001b[38;5;124m is deprecated. \u001b[39m\u001b[38;5;124m\"\u001b[39m\n\u001b[1;32m     95\u001b[0m                    \u001b[38;5;124m\"\u001b[39m\u001b[38;5;124mWe recommend managing extensions like any \u001b[39m\u001b[38;5;124m\"\u001b[39m\n\u001b[1;32m     96\u001b[0m                    \u001b[38;5;124m\"\u001b[39m\u001b[38;5;124mother Python packages, in site-packages.\u001b[39m\u001b[38;5;124m\"\u001b[39m)\u001b[38;5;241m.\u001b[39mformat(\n\u001b[1;32m     97\u001b[0m                   \u001b[38;5;28mdir\u001b[39m\u001b[38;5;241m=\u001b[39mcompress_user(\u001b[38;5;28mself\u001b[39m\u001b[38;5;241m.\u001b[39mipython_extension_dir)))\n",
      "File \u001b[0;32m~/opt/miniconda3/envs/jupyterlab/lib/python3.10/importlib/__init__.py:126\u001b[0m, in \u001b[0;36mimport_module\u001b[0;34m(name, package)\u001b[0m\n\u001b[1;32m    124\u001b[0m             \u001b[38;5;28;01mbreak\u001b[39;00m\n\u001b[1;32m    125\u001b[0m         level \u001b[38;5;241m+\u001b[39m\u001b[38;5;241m=\u001b[39m \u001b[38;5;241m1\u001b[39m\n\u001b[0;32m--> 126\u001b[0m \u001b[38;5;28;01mreturn\u001b[39;00m \u001b[43m_bootstrap\u001b[49m\u001b[38;5;241;43m.\u001b[39;49m\u001b[43m_gcd_import\u001b[49m\u001b[43m(\u001b[49m\u001b[43mname\u001b[49m\u001b[43m[\u001b[49m\u001b[43mlevel\u001b[49m\u001b[43m:\u001b[49m\u001b[43m]\u001b[49m\u001b[43m,\u001b[49m\u001b[43m \u001b[49m\u001b[43mpackage\u001b[49m\u001b[43m,\u001b[49m\u001b[43m \u001b[49m\u001b[43mlevel\u001b[49m\u001b[43m)\u001b[49m\n",
      "File \u001b[0;32m<frozen importlib._bootstrap>:1050\u001b[0m, in \u001b[0;36m_gcd_import\u001b[0;34m(name, package, level)\u001b[0m\n",
      "File \u001b[0;32m<frozen importlib._bootstrap>:1027\u001b[0m, in \u001b[0;36m_find_and_load\u001b[0;34m(name, import_)\u001b[0m\n",
      "File \u001b[0;32m<frozen importlib._bootstrap>:1004\u001b[0m, in \u001b[0;36m_find_and_load_unlocked\u001b[0;34m(name, import_)\u001b[0m\n",
      "\u001b[0;31mModuleNotFoundError\u001b[0m: No module named 'watermark'"
     ]
    }
   ],
   "source": []
  }
 ],
 "metadata": {
  "kernelspec": {
   "display_name": "Python 3 (ipykernel)",
   "language": "python",
   "name": "python3"
  },
  "language_info": {
   "codemirror_mode": {
    "name": "ipython",
    "version": 3
   },
   "file_extension": ".py",
   "mimetype": "text/x-python",
   "name": "python",
   "nbconvert_exporter": "python",
   "pygments_lexer": "ipython3",
   "version": "3.10.5"
  }
 },
 "nbformat": 4,
 "nbformat_minor": 5
}
