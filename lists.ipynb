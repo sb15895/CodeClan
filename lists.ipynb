{
 "cells": [
  {
   "cell_type": "markdown",
   "id": "2e073a2e-b3f0-42db-bf4c-5e04d351cf3d",
   "metadata": {},
   "source": [
    "# Data Structures\n",
    "\n",
    "Way of organising data, similar to vectors in C++. Data structure types are the following \n",
    "- Lists \n",
    "- Dictionaries \n",
    "- Tuples and sequences .. "
   ]
  },
  {
   "cell_type": "markdown",
   "id": "0218281c-5227-42be-a85b-2249f83a103e",
   "metadata": {},
   "source": [
    "## Lists "
   ]
  },
  {
   "cell_type": "code",
   "execution_count": 1,
   "id": "a3337cbd-a2dd-4dc7-a082-28d8d9143ef5",
   "metadata": {},
   "outputs": [
    {
     "name": "stdout",
     "output_type": "stream",
     "text": [
      "['monkey', 'elephant', 'sheep']\n"
     ]
    }
   ],
   "source": [
    "myList = [] \n",
    "myList =  ['monkey', 'elephant', 'sheep']\n",
    "print(myList)"
   ]
  },
  {
   "cell_type": "markdown",
   "id": "7174c189-ca0d-4692-b58a-cac53ae07b3f",
   "metadata": {},
   "source": [
    "### append \n",
    "```list.append(x)``` "
   ]
  },
  {
   "cell_type": "code",
   "execution_count": 2,
   "id": "911afad1-3305-435f-a3c2-bf00bdaa6530",
   "metadata": {},
   "outputs": [
    {
     "name": "stdout",
     "output_type": "stream",
     "text": [
      "['monkey', 'elephant', 'sheep', 'dog']\n"
     ]
    }
   ],
   "source": [
    "myList =  ['monkey', 'elephant', 'sheep']\n",
    "\n",
    "myList.append('dog')\n",
    "print(myList) "
   ]
  },
  {
   "cell_type": "markdown",
   "id": "d19348cd-3f94-4a38-9732-f4b3e518f775",
   "metadata": {},
   "source": [
    "### extend \n",
    "```list.extend(ext)```"
   ]
  },
  {
   "cell_type": "code",
   "execution_count": 3,
   "id": "17456356-89a5-42a1-8bd9-f37603ec4655",
   "metadata": {},
   "outputs": [
    {
     "name": "stdout",
     "output_type": "stream",
     "text": [
      "['monkey', 'elephant', 'sheep', 'dog', 'goat']\n"
     ]
    }
   ],
   "source": [
    "myList =  ['monkey', 'elephant', 'sheep']\n",
    "myList.append('dog')\n",
    "ext = ['goat']  \n",
    "\n",
    "myList.extend(ext) \n",
    "print(myList) "
   ]
  },
  {
   "cell_type": "code",
   "execution_count": 4,
   "id": "eaff893e-deb6-41fc-8241-0cef6abd0173",
   "metadata": {},
   "outputs": [],
   "source": [
    "# what not to do \n",
    "# ext = 'Goat'\n",
    "# test = myList \n",
    "# test.extend(ext) \n",
    "# print(test) "
   ]
  },
  {
   "cell_type": "markdown",
   "id": "ae243ee0-8161-401f-9f84-8af4f770c307",
   "metadata": {},
   "source": [
    "### remove \n",
    "```list.remove(x)``` \n"
   ]
  },
  {
   "cell_type": "code",
   "execution_count": 5,
   "id": "00311fc7-c064-4929-ab03-6d0ac12cfdf8",
   "metadata": {},
   "outputs": [
    {
     "name": "stdout",
     "output_type": "stream",
     "text": [
      "['monkey', 'elephant', 'sheep', 'dog']\n"
     ]
    }
   ],
   "source": [
    "myList =  ['monkey', 'elephant', 'sheep']\n",
    "myList.append('dog')\n",
    "rm = 'goat' \n",
    "\n",
    "myList.remove(rm)\n",
    "print(myList)"
   ]
  },
  {
   "cell_type": "markdown",
   "id": "ab890870-3dfd-435d-bf3f-ec398f57fc81",
   "metadata": {},
   "source": [
    "### Copy\n",
    "```list.copy()```"
   ]
  },
  {
   "cell_type": "code",
   "execution_count": 21,
   "id": "399e7593-035d-46ad-aac0-eb8adb583d45",
   "metadata": {},
   "outputs": [
    {
     "name": "stdout",
     "output_type": "stream",
     "text": [
      "['sheep', 'monkey', 'elephant', 'dog', 'cow']\n"
     ]
    }
   ],
   "source": [
    "test = myList.copy()\n",
    "print(test)"
   ]
  },
  {
   "cell_type": "markdown",
   "id": "42b78c32-71fd-4f34-b2fe-c836c8f3fb11",
   "metadata": {},
   "source": [
    "### clear\n",
    "```list.clear()``` \n"
   ]
  },
  {
   "cell_type": "code",
   "execution_count": 8,
   "id": "db857891-0298-49e4-a952-c9cb6369c5ec",
   "metadata": {},
   "outputs": [
    {
     "name": "stdout",
     "output_type": "stream",
     "text": [
      "[]\n"
     ]
    }
   ],
   "source": [
    "myList =  ['monkey', 'elephant', 'sheep']\n",
    "myList.append('dog')\n",
    "rm = 'goat' \n",
    "myList.remove(rm)\n",
    "myList.clear() \n",
    "print(myList) "
   ]
  },
  {
   "cell_type": "markdown",
   "id": "eaae613c-e9ab-4d98-b881-1b477bdc6f56",
   "metadata": {},
   "source": [
    "### insert \n",
    "```list.insert(i, x)```"
   ]
  },
  {
   "cell_type": "code",
   "execution_count": 6,
   "id": "7553c8f3-bee1-4b70-bcb1-c7dccd3fedb8",
   "metadata": {},
   "outputs": [
    {
     "name": "stdout",
     "output_type": "stream",
     "text": [
      "0 monkey\n",
      "1 elephant\n",
      "2 cow\n",
      "3 sheep\n",
      "4 dog\n"
     ]
    }
   ],
   "source": [
    "myList =  ['monkey', 'elephant', 'sheep']\n",
    "myList.append('dog')\n",
    "rm = 'goat' \n",
    "myList.remove(rm)\n",
    "\n",
    "myList.insert(2,'cow')\n",
    "for i in range(len(myList)):\n",
    "    print(i, myList[i])"
   ]
  },
  {
   "cell_type": "markdown",
   "id": "6f86375c-d198-4eb2-94ad-2b8660b8a444",
   "metadata": {},
   "source": [
    "### pop\n",
    "```list.pop([i])``` \n"
   ]
  },
  {
   "cell_type": "code",
   "execution_count": 7,
   "id": "d11821a2-e809-407e-8c00-43cf4d8d928f",
   "metadata": {},
   "outputs": [
    {
     "name": "stdout",
     "output_type": "stream",
     "text": [
      "0 monkey\n",
      "1 elephant\n",
      "2 sheep\n",
      "3 dog\n"
     ]
    }
   ],
   "source": [
    "myList =  ['monkey', 'elephant', 'sheep']\n",
    "myList.append('dog')\n",
    "rm = 'goat' \n",
    "myList.remove(rm)\n",
    "\n",
    "myList.pop()\n",
    "for i in range(len(myList)):\n",
    "    print(i, myList[i])\n",
    "# if no index specified, then last digit gets popped \n"
   ]
  },
  {
   "cell_type": "markdown",
   "id": "3080a4b6-6182-47bc-8b57-5be09c37c57e",
   "metadata": {},
   "source": [
    "### index\n",
    "```list.index(x[, start[, end]])``` "
   ]
  },
  {
   "cell_type": "code",
   "execution_count": 13,
   "id": "78a88e34-bc3b-41be-8ff0-574cee8e0269",
   "metadata": {},
   "outputs": [
    {
     "name": "stdout",
     "output_type": "stream",
     "text": [
      "0 monkey\n",
      "1 elephant\n",
      "2 sheep\n",
      "3 dog\n"
     ]
    }
   ],
   "source": [
    "myList =  ['monkey', 'elephant', 'sheep']\n",
    "myList.append('dog')\n",
    "for i in range(len(myList)):\n",
    "    print(i, myList[i])\n"
   ]
  },
  {
   "cell_type": "code",
   "execution_count": 14,
   "id": "3b4af1e7-a7b4-4542-a7f5-615558b5db32",
   "metadata": {},
   "outputs": [
    {
     "name": "stdout",
     "output_type": "stream",
     "text": [
      "2\n"
     ]
    }
   ],
   "source": [
    "search = 'sheep'\n",
    "print(myList.index(search))"
   ]
  },
  {
   "cell_type": "markdown",
   "id": "b9ebcf1e-887f-4ba4-b583-fa1a2ef5672e",
   "metadata": {},
   "source": [
    "### Count \n",
    "```list.count(x)```"
   ]
  },
  {
   "cell_type": "code",
   "execution_count": 15,
   "id": "d0f04359-1f58-42a3-a534-cf20bee1a309",
   "metadata": {},
   "outputs": [
    {
     "name": "stdout",
     "output_type": "stream",
     "text": [
      "3\n"
     ]
    }
   ],
   "source": [
    "myList =  ['monkey', 'elephant', 'sheep', 'sheep', 'cow', 'dog','sheep']\n",
    "search = 'sheep' \n",
    "print(myList.count(search)) "
   ]
  },
  {
   "cell_type": "markdown",
   "id": "d00fbe70-c564-4bf6-a0c9-2a2eb57c7408",
   "metadata": {},
   "source": [
    "### Reverse \n",
    "```list.reverse()``` "
   ]
  },
  {
   "cell_type": "code",
   "execution_count": 20,
   "id": "ecdc8c41-3126-43b3-b520-fe6cd493879f",
   "metadata": {},
   "outputs": [
    {
     "name": "stdout",
     "output_type": "stream",
     "text": [
      "['sheep', 'monkey', 'elephant', 'dog', 'cow']\n"
     ]
    }
   ],
   "source": [
    "myList.reverse()\n",
    "print(myList) "
   ]
  },
  {
   "cell_type": "markdown",
   "id": "a53bdc90-bec4-47cf-9e7f-4e97917eafc6",
   "metadata": {},
   "source": [
    "### Sort\n",
    "```list.sort(*, key=None, reverse=False)```"
   ]
  },
  {
   "cell_type": "code",
   "execution_count": 41,
   "id": "30793431-a791-4c37-bf80-650cc59d4163",
   "metadata": {},
   "outputs": [
    {
     "name": "stdout",
     "output_type": "stream",
     "text": [
      "['monkey', 'elephant', 'sheep', 'cow', 'dog']\n"
     ]
    }
   ],
   "source": [
    "myList =  ['monkey', 'elephant', 'sheep', 'cow', 'dog']\n",
    "print(myList)"
   ]
  },
  {
   "cell_type": "code",
   "execution_count": 42,
   "id": "4591cf7b-73f7-42cc-9174-3e6d71aca5f6",
   "metadata": {},
   "outputs": [
    {
     "name": "stdout",
     "output_type": "stream",
     "text": [
      "['cow', 'dog', 'sheep', 'monkey', 'elephant']\n"
     ]
    }
   ],
   "source": [
    "## default option \n",
    "# myList.sort()\n",
    "# print(myList) \n",
    "\n",
    "## key based on function \n",
    "def func(e):\n",
    "  return len(e)\n",
    "myList.sort(key=func) \n",
    "print(myList)\n",
    "\n",
    "## reverse option \n",
    "myList.sort(reverse=True)\n",
    "print(myList)\n"
   ]
  },
  {
   "cell_type": "markdown",
   "id": "a5d88fcf-b0ce-4314-b8b7-8f95f9ec851a",
   "metadata": {},
   "source": [
    "### list comprehensions"
   ]
  },
  {
   "cell_type": "code",
   "execution_count": 34,
   "id": "5361f474-9490-40e8-8841-46c025a26967",
   "metadata": {},
   "outputs": [
    {
     "name": "stdout",
     "output_type": "stream",
     "text": [
      "[0, 1, 4, 9, 16, 25, 36, 49, 64, 81]\n"
     ]
    }
   ],
   "source": [
    "# importing the required module\n",
    "import matplotlib.pyplot as plt\n",
    "\n",
    "squares = [x**2 for x in range(10)]\n",
    "print(squares)\n",
    "# plt.figure()\n",
    "# plt.plot(squares)\n",
    "\n",
    "## nested lists "
   ]
  }
 ],
 "metadata": {
  "kernelspec": {
   "display_name": "Python 3 (ipykernel)",
   "language": "python",
   "name": "python3"
  },
  "language_info": {
   "codemirror_mode": {
    "name": "ipython",
    "version": 3
   },
   "file_extension": ".py",
   "mimetype": "text/x-python",
   "name": "python",
   "nbconvert_exporter": "python",
   "pygments_lexer": "ipython3",
   "version": "3.10.5"
  }
 },
 "nbformat": 4,
 "nbformat_minor": 5
}
